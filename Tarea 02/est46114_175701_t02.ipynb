{
 "cells": [
  {
   "cell_type": "markdown",
   "metadata": {},
   "source": [
    "# Analisis de factores de tipo de cambio, implementación en python "
   ]
  },
  {
   "cell_type": "markdown",
   "metadata": {},
   "source": [
    "# Marco teoríco"
   ]
  },
  {
   "cell_type": "markdown",
   "metadata": {},
   "source": [
    "$$\n",
    "X = WZ + \\mu + \\epsilon\n",
    "$$\n",
    "\n",
    "$$\n",
    "X|Z -- > N(\\mu + WX, \\phi)\n",
    "$$\n",
    "\n",
    "Total de variables tiene dimesión $n$\n",
    "\n",
    "Queremos _reducir dimensiones_ entonces decimos que Z tiene el numero de dimensiones que queremos reducir (llamemosle K), el trabajo de W será obtener una matriz de $nxk$.\n",
    "\n",
    "Ojo que $\\phi$ es una matriz diagonal.\n",
    "\n",
    "\n",
    "Para sacar los parametros W que nos ayudan a redicir la dimensionalidad utilizamos el clasico algoritmo EM, para más información:\n",
    "- http://cs229.stanford.edu/notes/cs229-notes9.pdf\n",
    "- http://cs229.stanford.edu/notes/cs229-notes8.pdf\n",
    "\n",
    "Epsilon es una gaussiana con $\\mu$ = 0 y varianza constante \n",
    "\n",
    "- Z es de dimensión menor que el numero de variables en X\n",
    "- W es una matriz de pesos (como en redes neuronales)\n",
    "- El total de neuronas será a elección del usuario\n",
    "- El objetivo es reducir la dimensionalidad\n",
    "\n",
    "\n",
    "El objetivo de esto no es justificar teoríacamente sino implementar con datos reales, pasemos a esto, para ello utilizaremos el paquete SKLEARN.\n",
    "\n",
    "\n",
    "\n",
    "\n"
   ]
  },
  {
   "cell_type": "markdown",
   "metadata": {},
   "source": [
    "El preprocesamiento es el mismo seguido en R para las componentes principales. Resumidamente:\n",
    "- obtuvieron los rendimientos logatritmicos\n",
    "- se estandarizo "
   ]
  },
  {
   "cell_type": "code",
   "execution_count": 90,
   "metadata": {},
   "outputs": [],
   "source": [
    "import pandas as pd\n",
    "from sklearn.decomposition import FactorAnalysis\n",
    "import matplotlib.pyplot as plt\n",
    "import numpy as np"
   ]
  },
  {
   "cell_type": "code",
   "execution_count": 65,
   "metadata": {},
   "outputs": [],
   "source": [
    "df = pd.read_csv(\"df.csv\")\n",
    "transformer = FactorAnalysis(n_components=2, random_state=0, max_iter=100000).fit(df)"
   ]
  },
  {
   "cell_type": "code",
   "execution_count": 66,
   "metadata": {},
   "outputs": [],
   "source": [
    "reduction = transformer.transform(df)\n",
    "first_dim = [i[0] for i in reduction]\n",
    "second_dim = [i[1] for i in reduction]"
   ]
  },
  {
   "cell_type": "markdown",
   "metadata": {},
   "source": [
    "No parece haber clusters, como que la primera dimensión capta más variablidad que la segunda."
   ]
  },
  {
   "cell_type": "code",
   "execution_count": 67,
   "metadata": {},
   "outputs": [
    {
     "data": {
      "text/plain": [
       "<matplotlib.collections.PathCollection at 0x10b8fee10>"
      ]
     },
     "execution_count": 67,
     "metadata": {},
     "output_type": "execute_result"
    },
    {
     "data": {
      "image/png": "[encoded data removed]",
      "text/plain": [
       "<Figure size 432x288 with 1 Axes>"
      ]
     },
     "metadata": {
      "needs_background": "light"
     },
     "output_type": "display_data"
    }
   ],
   "source": [
    "plt.scatter(first_dim, second_dim) "
   ]
  },
  {
   "cell_type": "markdown",
   "metadata": {},
   "source": [
    "La primera componente parece normal. "
   ]
  },
  {
   "cell_type": "code",
   "execution_count": 68,
   "metadata": {},
   "outputs": [
    {
     "data": {
      "text/plain": [
       "(array([   8.,   20.,   42.,   97.,  125.,  105.,   58.,   24.,    7.,    5.]),\n",
       " array([-2.83939694, -2.22938579, -1.61937465, -1.0093635 , -0.39935235,\n",
       "         0.2106588 ,  0.82066994,  1.43068109,  2.04069224,  2.65070338,\n",
       "         3.26071453]),\n",
       " <a list of 10 Patch objects>)"
      ]
     },
     "execution_count": 68,
     "metadata": {},
     "output_type": "execute_result"
    },
    {
     "data": {
      "image/png": "[encoded data removed]",
      "text/plain": [
       "<Figure size 432x288 with 1 Axes>"
      ]
     },
     "metadata": {
      "needs_background": "light"
     },
     "output_type": "display_data"
    }
   ],
   "source": [
    "plt.hist(first_dim)"
   ]
  },
  {
   "cell_type": "markdown",
   "metadata": {},
   "source": [
    "No es el caso de la segunda componente"
   ]
  },
  {
   "cell_type": "code",
   "execution_count": 69,
   "metadata": {},
   "outputs": [
    {
     "data": {
      "text/plain": [
       "(array([ 383.,  107.,    0.,    0.,    0.,    0.,    0.,    0.,    0.,    1.]),\n",
       " array([ -2.00191472,   0.17482844,   2.35157159,   4.52831475,\n",
       "          6.7050579 ,   8.88180106,  11.05854421,  13.23528737,\n",
       "         15.41203052,  17.58877368,  19.76551683]),\n",
       " <a list of 10 Patch objects>)"
      ]
     },
     "execution_count": 69,
     "metadata": {},
     "output_type": "execute_result"
    },
    {
     "data": {
      "image/png": "[encoded data removed]",
      "text/plain": [
       "<Figure size 432x288 with 1 Axes>"
      ]
     },
     "metadata": {
      "needs_background": "light"
     },
     "output_type": "display_data"
    }
   ],
   "source": [
    "plt.hist(second_dim)"
   ]
  },
  {
   "cell_type": "code",
   "execution_count": 75,
   "metadata": {},
   "outputs": [],
   "source": [
    "df1 = pd.DataFrame()\n",
    "df1['paises'] = df.keys()\n",
    "df1['primera'] = transformer.components_[0]\n",
    "df1['segunda'] =transformer.components_[1]"
   ]
  },
  {
   "cell_type": "markdown",
   "metadata": {},
   "source": [
    "Primero examinamos la primera dimensión, aquellos paíss que tienen valor absoluto menor en lambda son países llamados \"vías en desarrollo\""
   ]
  },
  {
   "cell_type": "code",
   "execution_count": 86,
   "metadata": {},
   "outputs": [
    {
     "data": {
      "text/html": [
       "<div>\n",
       "<table border=\"1\" class=\"dataframe\">\n",
       "  <thead>\n",
       "    <tr style=\"text-align: right;\">\n",
       "      <th></th>\n",
       "      <th>paises</th>\n",
       "      <th>primera</th>\n",
       "      <th>segunda</th>\n",
       "    </tr>\n",
       "  </thead>\n",
       "  <tbody>\n",
       "    <tr>\n",
       "      <th>1</th>\n",
       "      <td>Mexico</td>\n",
       "      <td>-0.090951</td>\n",
       "      <td>-0.012326</td>\n",
       "    </tr>\n",
       "    <tr>\n",
       "      <th>3</th>\n",
       "      <td>El.Salvador</td>\n",
       "      <td>-0.056933</td>\n",
       "      <td>-0.003675</td>\n",
       "    </tr>\n",
       "    <tr>\n",
       "      <th>35</th>\n",
       "      <td>Russia</td>\n",
       "      <td>-0.050612</td>\n",
       "      <td>-0.013726</td>\n",
       "    </tr>\n",
       "    <tr>\n",
       "      <th>70</th>\n",
       "      <td>Ghana</td>\n",
       "      <td>-0.043165</td>\n",
       "      <td>0.014459</td>\n",
       "    </tr>\n",
       "    <tr>\n",
       "      <th>17</th>\n",
       "      <td>Uruguay</td>\n",
       "      <td>-0.035063</td>\n",
       "      <td>-0.026501</td>\n",
       "    </tr>\n",
       "    <tr>\n",
       "      <th>5</th>\n",
       "      <td>Costa.Rica</td>\n",
       "      <td>-0.032061</td>\n",
       "      <td>0.034763</td>\n",
       "    </tr>\n",
       "    <tr>\n",
       "      <th>12</th>\n",
       "      <td>Ecuador</td>\n",
       "      <td>-0.014146</td>\n",
       "      <td>0.059459</td>\n",
       "    </tr>\n",
       "    <tr>\n",
       "      <th>68</th>\n",
       "      <td>Sierra.Leone</td>\n",
       "      <td>-0.012743</td>\n",
       "      <td>0.008288</td>\n",
       "    </tr>\n",
       "  </tbody>\n",
       "</table>\n",
       "</div>"
      ],
      "text/plain": [
       "          paises   primera   segunda\n",
       "1         Mexico -0.090951 -0.012326\n",
       "3    El.Salvador -0.056933 -0.003675\n",
       "35        Russia -0.050612 -0.013726\n",
       "70         Ghana -0.043165  0.014459\n",
       "17       Uruguay -0.035063 -0.026501\n",
       "5     Costa.Rica -0.032061  0.034763\n",
       "12       Ecuador -0.014146  0.059459\n",
       "68  Sierra.Leone -0.012743  0.008288"
      ]
     },
     "execution_count": 86,
     "metadata": {},
     "output_type": "execute_result"
    }
   ],
   "source": [
    "df1.sort_values(by='primera').head(8)"
   ]
  },
  {
   "cell_type": "markdown",
   "metadata": {},
   "source": [
    "Aquellos que tienen más peso en lambda de la priemra dimensión som países \"desarrollados\""
   ]
  },
  {
   "cell_type": "code",
   "execution_count": 85,
   "metadata": {},
   "outputs": [
    {
     "data": {
      "text/html": [
       "<div>\n",
       "<table border=\"1\" class=\"dataframe\">\n",
       "  <thead>\n",
       "    <tr style=\"text-align: right;\">\n",
       "      <th></th>\n",
       "      <th>paises</th>\n",
       "      <th>primera</th>\n",
       "      <th>segunda</th>\n",
       "    </tr>\n",
       "  </thead>\n",
       "  <tbody>\n",
       "    <tr>\n",
       "      <th>25</th>\n",
       "      <td>Ireland</td>\n",
       "      <td>0.874461</td>\n",
       "      <td>-0.097395</td>\n",
       "    </tr>\n",
       "    <tr>\n",
       "      <th>19</th>\n",
       "      <td>EU12</td>\n",
       "      <td>0.953206</td>\n",
       "      <td>-0.095566</td>\n",
       "    </tr>\n",
       "    <tr>\n",
       "      <th>23</th>\n",
       "      <td>Denmark</td>\n",
       "      <td>0.959075</td>\n",
       "      <td>-0.107603</td>\n",
       "    </tr>\n",
       "    <tr>\n",
       "      <th>28</th>\n",
       "      <td>France</td>\n",
       "      <td>0.961747</td>\n",
       "      <td>-0.037246</td>\n",
       "    </tr>\n",
       "    <tr>\n",
       "      <th>26</th>\n",
       "      <td>Luxembourg</td>\n",
       "      <td>0.967007</td>\n",
       "      <td>-0.096008</td>\n",
       "    </tr>\n",
       "    <tr>\n",
       "      <th>30</th>\n",
       "      <td>Austria</td>\n",
       "      <td>0.968899</td>\n",
       "      <td>-0.107198</td>\n",
       "    </tr>\n",
       "    <tr>\n",
       "      <th>27</th>\n",
       "      <td>Netherlands</td>\n",
       "      <td>0.970662</td>\n",
       "      <td>-0.097067</td>\n",
       "    </tr>\n",
       "    <tr>\n",
       "      <th>29</th>\n",
       "      <td>Germany</td>\n",
       "      <td>0.977095</td>\n",
       "      <td>-0.104324</td>\n",
       "    </tr>\n",
       "  </tbody>\n",
       "</table>\n",
       "</div>"
      ],
      "text/plain": [
       "         paises   primera   segunda\n",
       "25      Ireland  0.874461 -0.097395\n",
       "19         EU12  0.953206 -0.095566\n",
       "23      Denmark  0.959075 -0.107603\n",
       "28       France  0.961747 -0.037246\n",
       "26   Luxembourg  0.967007 -0.096008\n",
       "30      Austria  0.968899 -0.107198\n",
       "27  Netherlands  0.970662 -0.097067\n",
       "29      Germany  0.977095 -0.104324"
      ]
     },
     "execution_count": 85,
     "metadata": {},
     "output_type": "execute_result"
    }
   ],
   "source": [
    "df1.sort_values(by='primera').tail(8)"
   ]
  },
  {
   "cell_type": "markdown",
   "metadata": {},
   "source": [
    "En este caso aquellos que tienen menor valor en la segunda son países que se considerarían \"desarrollados\""
   ]
  },
  {
   "cell_type": "code",
   "execution_count": 87,
   "metadata": {},
   "outputs": [
    {
     "data": {
      "text/html": [
       "<div>\n",
       "<table border=\"1\" class=\"dataframe\">\n",
       "  <thead>\n",
       "    <tr style=\"text-align: right;\">\n",
       "      <th></th>\n",
       "      <th>paises</th>\n",
       "      <th>primera</th>\n",
       "      <th>segunda</th>\n",
       "    </tr>\n",
       "  </thead>\n",
       "  <tbody>\n",
       "    <tr>\n",
       "      <th>20</th>\n",
       "      <td>Sweden</td>\n",
       "      <td>0.791993</td>\n",
       "      <td>-0.150220</td>\n",
       "    </tr>\n",
       "    <tr>\n",
       "      <th>22</th>\n",
       "      <td>Finland</td>\n",
       "      <td>0.865497</td>\n",
       "      <td>-0.116874</td>\n",
       "    </tr>\n",
       "    <tr>\n",
       "      <th>23</th>\n",
       "      <td>Denmark</td>\n",
       "      <td>0.959075</td>\n",
       "      <td>-0.107603</td>\n",
       "    </tr>\n",
       "    <tr>\n",
       "      <th>30</th>\n",
       "      <td>Austria</td>\n",
       "      <td>0.968899</td>\n",
       "      <td>-0.107198</td>\n",
       "    </tr>\n",
       "    <tr>\n",
       "      <th>29</th>\n",
       "      <td>Germany</td>\n",
       "      <td>0.977095</td>\n",
       "      <td>-0.104324</td>\n",
       "    </tr>\n",
       "    <tr>\n",
       "      <th>32</th>\n",
       "      <td>Hungary</td>\n",
       "      <td>0.379808</td>\n",
       "      <td>-0.104299</td>\n",
       "    </tr>\n",
       "    <tr>\n",
       "      <th>60</th>\n",
       "      <td>Australia</td>\n",
       "      <td>0.382647</td>\n",
       "      <td>-0.102626</td>\n",
       "    </tr>\n",
       "    <tr>\n",
       "      <th>25</th>\n",
       "      <td>Ireland</td>\n",
       "      <td>0.874461</td>\n",
       "      <td>-0.097395</td>\n",
       "    </tr>\n",
       "  </tbody>\n",
       "</table>\n",
       "</div>"
      ],
      "text/plain": [
       "       paises   primera   segunda\n",
       "20     Sweden  0.791993 -0.150220\n",
       "22    Finland  0.865497 -0.116874\n",
       "23    Denmark  0.959075 -0.107603\n",
       "30    Austria  0.968899 -0.107198\n",
       "29    Germany  0.977095 -0.104324\n",
       "32    Hungary  0.379808 -0.104299\n",
       "60  Australia  0.382647 -0.102626\n",
       "25    Ireland  0.874461 -0.097395"
      ]
     },
     "execution_count": 87,
     "metadata": {},
     "output_type": "execute_result"
    }
   ],
   "source": [
    "df1.sort_values(by='segunda').head(8)"
   ]
  },
  {
   "cell_type": "markdown",
   "metadata": {},
   "source": [
    "Aquellos que tienen mayor valor en la segunda son países principalmente africanos"
   ]
  },
  {
   "cell_type": "code",
   "execution_count": 88,
   "metadata": {},
   "outputs": [
    {
     "data": {
      "text/html": [
       "<div>\n",
       "<table border=\"1\" class=\"dataframe\">\n",
       "  <thead>\n",
       "    <tr style=\"text-align: right;\">\n",
       "      <th></th>\n",
       "      <th>paises</th>\n",
       "      <th>primera</th>\n",
       "      <th>segunda</th>\n",
       "    </tr>\n",
       "  </thead>\n",
       "  <tbody>\n",
       "    <tr>\n",
       "      <th>51</th>\n",
       "      <td>Malaysia</td>\n",
       "      <td>0.363869</td>\n",
       "      <td>0.062493</td>\n",
       "    </tr>\n",
       "    <tr>\n",
       "      <th>78</th>\n",
       "      <td>Zambia</td>\n",
       "      <td>0.031322</td>\n",
       "      <td>0.071199</td>\n",
       "    </tr>\n",
       "    <tr>\n",
       "      <th>67</th>\n",
       "      <td>Senegal</td>\n",
       "      <td>0.650353</td>\n",
       "      <td>0.589591</td>\n",
       "    </tr>\n",
       "    <tr>\n",
       "      <th>72</th>\n",
       "      <td>Benin</td>\n",
       "      <td>0.745958</td>\n",
       "      <td>0.599065</td>\n",
       "    </tr>\n",
       "    <tr>\n",
       "      <th>69</th>\n",
       "      <td>Cote.d.Ivoire</td>\n",
       "      <td>0.674855</td>\n",
       "      <td>0.616898</td>\n",
       "    </tr>\n",
       "    <tr>\n",
       "      <th>55</th>\n",
       "      <td>China.PR</td>\n",
       "      <td>0.265423</td>\n",
       "      <td>0.618324</td>\n",
       "    </tr>\n",
       "    <tr>\n",
       "      <th>73</th>\n",
       "      <td>Congo</td>\n",
       "      <td>0.579258</td>\n",
       "      <td>0.627879</td>\n",
       "    </tr>\n",
       "    <tr>\n",
       "      <th>66</th>\n",
       "      <td>Cameroon</td>\n",
       "      <td>0.693866</td>\n",
       "      <td>0.640428</td>\n",
       "    </tr>\n",
       "  </tbody>\n",
       "</table>\n",
       "</div>"
      ],
      "text/plain": [
       "           paises   primera   segunda\n",
       "51       Malaysia  0.363869  0.062493\n",
       "78         Zambia  0.031322  0.071199\n",
       "67        Senegal  0.650353  0.589591\n",
       "72          Benin  0.745958  0.599065\n",
       "69  Cote.d.Ivoire  0.674855  0.616898\n",
       "55       China.PR  0.265423  0.618324\n",
       "73          Congo  0.579258  0.627879\n",
       "66       Cameroon  0.693866  0.640428"
      ]
     },
     "execution_count": 88,
     "metadata": {},
     "output_type": "execute_result"
    }
   ],
   "source": [
    " df1.sort_values(by='segunda').tail(8)"
   ]
  },
  {
   "cell_type": "code",
   "execution_count": null,
   "metadata": {},
   "outputs": [],
   "source": []
  }
 ],
 "metadata": {
  "kernelspec": {
   "display_name": "Python 2",
   "language": "python",
   "name": "python2"
  },
  "language_info": {
   "codemirror_mode": {
    "name": "ipython",
    "version": 2
   },
   "file_extension": ".py",
   "mimetype": "text/x-python",
   "name": "python",
   "nbconvert_exporter": "python",
   "pygments_lexer": "ipython2",
   "version": "2.7.15"
  }
 },
 "nbformat": 4,
 "nbformat_minor": 2
}
